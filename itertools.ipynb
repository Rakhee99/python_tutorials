{
 "cells": [
  {
   "cell_type": "code",
   "execution_count": 1,
   "metadata": {},
   "outputs": [],
   "source": [
    "import itertools"
   ]
  },
  {
   "cell_type": "code",
   "execution_count": 7,
   "metadata": {},
   "outputs": [
    {
     "name": "stdout",
     "output_type": "stream",
     "text": [
      "3\n",
      "5\n",
      "7\n",
      "9\n"
     ]
    }
   ],
   "source": [
    "count_down = itertools.count(start = 3, step = 2)\n",
    "\n",
    "print(next(count_down))\n",
    "print(next(count_down))\n",
    "print(next(count_down))\n",
    "print(next(count_down))"
   ]
  },
  {
   "cell_type": "code",
   "execution_count": 10,
   "metadata": {},
   "outputs": [
    {
     "name": "stdout",
     "output_type": "stream",
     "text": [
      "[(1, 'monday'), (2, 'Tuesday'), (3, 'wednesday'), (4, 'thrusday'), (5, 'friday'), (6, 'saturday'), (7, 'sunday')]\n"
     ]
    }
   ],
   "source": [
    "data = ['monday', 'Tuesday', 'wednesday','thrusday','friday','saturday','sunday']\n",
    "\n",
    "day_codes = zip(itertools.count(start=1), data)\n",
    "\n",
    "print(list(day_codes))"
   ]
  },
  {
   "cell_type": "code",
   "execution_count": 12,
   "metadata": {},
   "outputs": [
    {
     "name": "stdout",
     "output_type": "stream",
     "text": [
      "[(0, 'monday'), (1, 'Tuesday'), (2, 'wednesday'), (3, 'thrusday'), (4, 'friday'), (5, 'saturday'), (6, 'sunday')]\n",
      "[(0, 'monday'), (1, 'Tuesday'), (2, 'wednesday'), (3, 'thrusday'), (4, 'friday'), (5, 'saturday'), (6, 'sunday'), (7, None), (8, None), (9, None)]\n"
     ]
    }
   ],
   "source": [
    "data = ['monday', 'Tuesday', 'wednesday','thrusday','friday','saturday','sunday']\n",
    "\n",
    "day_codes = zip(range(10), data)\n",
    "day_codes_longest = itertools.zip_longest(range(10),data)\n",
    "print(list(day_codes))\n",
    "print(list(day_codes_longest))"
   ]
  },
  {
   "cell_type": "code",
   "execution_count": 15,
   "metadata": {},
   "outputs": [
    {
     "name": "stdout",
     "output_type": "stream",
     "text": [
      "1\n",
      "2\n",
      "3\n",
      "1\n",
      "2\n",
      "3\n",
      "1\n",
      "2\n",
      "3\n"
     ]
    }
   ],
   "source": [
    "counter = itertools.cycle([1,2,3])\n",
    "\n",
    "print(next(counter))\n",
    "print(next(counter))\n",
    "print(next(counter))\n",
    "print(next(counter))\n",
    "print(next(counter))\n",
    "print(next(counter))\n",
    "print(next(counter))\n",
    "print(next(counter))\n",
    "print(next(counter))"
   ]
  },
  {
   "cell_type": "code",
   "execution_count": 2,
   "metadata": {},
   "outputs": [
    {
     "name": "stdout",
     "output_type": "stream",
     "text": [
      "2\n",
      "2\n",
      "2\n"
     ]
    }
   ],
   "source": [
    "counter = itertools.repeat(2)\n",
    "\n",
    "print(next(counter))\n",
    "print(next(counter))\n",
    "print(next(counter))"
   ]
  },
  {
   "cell_type": "code",
   "execution_count": 3,
   "metadata": {},
   "outputs": [
    {
     "name": "stdout",
     "output_type": "stream",
     "text": [
      "2\n",
      "2\n"
     ]
    },
    {
     "ename": "StopIteration",
     "evalue": "",
     "output_type": "error",
     "traceback": [
      "\u001b[1;31m---------------------------------------------------------------------------\u001b[0m",
      "\u001b[1;31mStopIteration\u001b[0m                             Traceback (most recent call last)",
      "Cell \u001b[1;32mIn[3], line 5\u001b[0m\n\u001b[0;32m      3\u001b[0m \u001b[39mprint\u001b[39m(\u001b[39mnext\u001b[39m(counter))\n\u001b[0;32m      4\u001b[0m \u001b[39mprint\u001b[39m(\u001b[39mnext\u001b[39m(counter))\n\u001b[1;32m----> 5\u001b[0m \u001b[39mprint\u001b[39m(\u001b[39mnext\u001b[39;49m(counter))\n",
      "\u001b[1;31mStopIteration\u001b[0m: "
     ]
    }
   ],
   "source": [
    "counter = itertools.repeat(2, times=2)\n",
    "\n",
    "print(next(counter))\n",
    "print(next(counter))\n",
    "print(next(counter))"
   ]
  },
  {
   "cell_type": "code",
   "execution_count": 4,
   "metadata": {},
   "outputs": [
    {
     "name": "stdout",
     "output_type": "stream",
     "text": [
      "[0, 1, 4, 9, 16, 25, 36, 49, 64, 81]\n"
     ]
    }
   ],
   "source": [
    "squares = map(pow, range(10), itertools.repeat(2))\n",
    "print(list(squares))"
   ]
  },
  {
   "cell_type": "code",
   "execution_count": 5,
   "metadata": {},
   "outputs": [
    {
     "name": "stdout",
     "output_type": "stream",
     "text": [
      "[0, 1, 4]\n"
     ]
    }
   ],
   "source": [
    "squares = itertools.starmap(pow, [(0,2),(1,2),(2,2)])\n",
    "print(list(squares))"
   ]
  },
  {
   "cell_type": "code",
   "execution_count": 24,
   "metadata": {},
   "outputs": [
    {
     "name": "stdout",
     "output_type": "stream",
     "text": [
      "(1, 2)\n",
      "(1, 3)\n",
      "(1, 4)\n",
      "(2, 3)\n",
      "(2, 4)\n",
      "(3, 4)\n",
      "________________\n",
      "(1, 1)\n",
      "(1, 2)\n",
      "(1, 3)\n",
      "(1, 4)\n",
      "(2, 2)\n",
      "(2, 3)\n",
      "(2, 4)\n",
      "(3, 3)\n",
      "(3, 4)\n",
      "(4, 4)\n"
     ]
    }
   ],
   "source": [
    "### combinations, here Order/position doesnt matter.\n",
    "\n",
    "letters = ['a','b','c','d']\n",
    "numbers = [1,2,3,4]\n",
    "names = ['corey','nicole']\n",
    "result = itertools.combinations(numbers, 2) ### but donot repeate values\n",
    "result2 = itertools.combinations_with_replacement(numbers, 2) ### but repeat values\n",
    "for item in result:\n",
    "    print(item)\n",
    "print('________________')\n",
    "for item in result2:\n",
    "    print(item)"
   ]
  },
  {
   "cell_type": "code",
   "execution_count": 25,
   "metadata": {},
   "outputs": [
    {
     "name": "stdout",
     "output_type": "stream",
     "text": [
      "('a', 'b')\n",
      "('a', 'c')\n",
      "('a', 'd')\n",
      "('b', 'a')\n",
      "('b', 'c')\n",
      "('b', 'd')\n",
      "('c', 'a')\n",
      "('c', 'b')\n",
      "('c', 'd')\n",
      "('d', 'a')\n",
      "('d', 'b')\n",
      "('d', 'c')\n",
      "____________\n",
      "('a', 'a')\n",
      "('a', 'b')\n",
      "('a', 'c')\n",
      "('a', 'd')\n",
      "('b', 'a')\n",
      "('b', 'b')\n",
      "('b', 'c')\n",
      "('b', 'd')\n",
      "('c', 'a')\n",
      "('c', 'b')\n",
      "('c', 'c')\n",
      "('c', 'd')\n",
      "('d', 'a')\n",
      "('d', 'b')\n",
      "('d', 'c')\n",
      "('d', 'd')\n"
     ]
    }
   ],
   "source": [
    "### Permutations, here element position matters.\n",
    "\n",
    "result = itertools.permutations(letters, 2)  #### but do not repeat values\n",
    "result2 = itertools.product(letters, repeat = 2)  ####  repeat values\n",
    "for item in result:\n",
    "    print(item)\n",
    "print('____________')\n",
    "for item in result2:\n",
    "    print(item)"
   ]
  },
  {
   "cell_type": "code",
   "execution_count": 26,
   "metadata": {},
   "outputs": [
    {
     "name": "stdout",
     "output_type": "stream",
     "text": [
      "a\n",
      "b\n",
      "c\n",
      "d\n",
      "1\n",
      "2\n",
      "3\n",
      "4\n",
      "rakesh\n",
      "kadali\n"
     ]
    }
   ],
   "source": [
    "### equivalent to [letter + numbers + names], but here we taking another copy of all 3 lists, totally memory inefficient way. \n",
    "## to overcome this chain method is implemented.\n",
    "\n",
    "letters = ['a','b','c','d']\n",
    "numbers = [1,2,3,4]\n",
    "names = ['rakesh','kadali']\n",
    "\n",
    "combined = itertools.chain(letters, numbers, names) \n",
    "for item in combined:\n",
    "    print(item)"
   ]
  },
  {
   "cell_type": "code",
   "execution_count": null,
   "metadata": {},
   "outputs": [],
   "source": []
  }
 ],
 "metadata": {
  "kernelspec": {
   "display_name": "Python 3.9.4 ('env': venv)",
   "language": "python",
   "name": "python3"
  },
  "language_info": {
   "codemirror_mode": {
    "name": "ipython",
    "version": 3
   },
   "file_extension": ".py",
   "mimetype": "text/x-python",
   "name": "python",
   "nbconvert_exporter": "python",
   "pygments_lexer": "ipython3",
   "version": "3.9.4"
  },
  "orig_nbformat": 4,
  "vscode": {
   "interpreter": {
    "hash": "415faa931ba4d4cf58e7de1e14a8bae800d809c456eb7ffc3820af1fc1ef5321"
   }
  }
 },
 "nbformat": 4,
 "nbformat_minor": 2
}
